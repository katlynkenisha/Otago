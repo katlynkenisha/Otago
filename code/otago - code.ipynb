{
  "nbformat": 4,
  "nbformat_minor": 0,
  "metadata": {
    "colab": {
      "provenance": [],
      "toc_visible": true
    },
    "kernelspec": {
      "name": "python3",
      "display_name": "Python 3"
    },
    "language_info": {
      "name": "python"
    }
  },
  "cells": [
    {
      "cell_type": "markdown",
      "source": [
        "# Importing Libraries"
      ],
      "metadata": {
        "id": "dCmUZB_0rUUs"
      }
    },
    {
      "cell_type": "code",
      "source": [
        "!pip install catboost"
      ],
      "metadata": {
        "id": "p_e-hiBinnYJ"
      },
      "execution_count": null,
      "outputs": []
    },
    {
      "cell_type": "code",
      "execution_count": 2,
      "metadata": {
        "id": "vX60unjaqsSd"
      },
      "outputs": [],
      "source": [
        "import warnings\n",
        "warnings.filterwarnings(\"ignore\")\n",
        "import numpy as np\n",
        "import pandas as pd\n",
        "import seaborn as sns\n",
        "import matplotlib.pyplot as plt\n",
        "\n",
        "from sklearn.preprocessing import LabelEncoder\n",
        "from sklearn.model_selection import train_test_split\n",
        "from sklearn.linear_model import LogisticRegression\n",
        "from sklearn.neighbors import KNeighborsClassifier\n",
        "from sklearn.svm import SVC\n",
        "from sklearn.tree import DecisionTreeClassifier\n",
        "from sklearn.ensemble import RandomForestClassifier, GradientBoostingClassifier, AdaBoostClassifier\n",
        "from sklearn.naive_bayes import GaussianNB\n",
        "from sklearn.neural_network import MLPClassifier\n",
        "from xgboost import XGBClassifier\n",
        "from lightgbm import LGBMClassifier\n",
        "from catboost import CatBoostClassifier\n",
        "from sklearn.model_selection import cross_val_predict\n",
        "from sklearn.metrics import accuracy_score"
      ]
    },
    {
      "cell_type": "markdown",
      "source": [
        "# Importing Data"
      ],
      "metadata": {
        "id": "8yPYoF2ZrY5b"
      }
    },
    {
      "cell_type": "code",
      "source": [
        "from google.colab import drive\n",
        "drive.mount('/content/drive')"
      ],
      "metadata": {
        "colab": {
          "base_uri": "https://localhost:8080/"
        },
        "id": "qkLIzOOHrZQ7",
        "outputId": "520227ed-64d9-41f2-8d70-2371dc259dea"
      },
      "execution_count": 3,
      "outputs": [
        {
          "output_type": "stream",
          "name": "stdout",
          "text": [
            "Mounted at /content/drive\n"
          ]
        }
      ]
    },
    {
      "cell_type": "code",
      "source": [
        "# Trial table to create training model on membership tiers\n",
        "file_path = '/content/drive/My Drive/Colab Notebooks/trial.csv'\n",
        "df_trial = pd.read_csv(file_path)\n",
        "df_trial.head(5)"
      ],
      "metadata": {
        "colab": {
          "base_uri": "https://localhost:8080/",
          "height": 206
        },
        "id": "_ANwMcCRXKsW",
        "outputId": "4983a783-b16a-49df-bd08-a8a48671503b"
      },
      "execution_count": 4,
      "outputs": [
        {
          "output_type": "execute_result",
          "data": {
            "text/plain": [
              "    customer_id membership_class_trial          result  total_spent  \\\n",
              "0  997579682270                 Silver  Unsatisfactory         1301   \n",
              "1  997458045673                 Silver  Unsatisfactory         1035   \n",
              "2  996882350315                 Silver  Unsatisfactory          699   \n",
              "3  996783659998                 Silver  Unsatisfactory          767   \n",
              "4  996331197257                 Silver  Unsatisfactory          554   \n",
              "\n",
              "   count_trx  avg_spent_per_trx  avg_annual_trx  \n",
              "0         28              46.46               9  \n",
              "1         25              41.40               8  \n",
              "2         21              33.29               7  \n",
              "3         19              40.37               6  \n",
              "4         18              30.78               6  "
            ],
            "text/html": [
              "\n",
              "  <div id=\"df-0dde2997-036f-447c-9dcb-33a24f520893\" class=\"colab-df-container\">\n",
              "    <div>\n",
              "<style scoped>\n",
              "    .dataframe tbody tr th:only-of-type {\n",
              "        vertical-align: middle;\n",
              "    }\n",
              "\n",
              "    .dataframe tbody tr th {\n",
              "        vertical-align: top;\n",
              "    }\n",
              "\n",
              "    .dataframe thead th {\n",
              "        text-align: right;\n",
              "    }\n",
              "</style>\n",
              "<table border=\"1\" class=\"dataframe\">\n",
              "  <thead>\n",
              "    <tr style=\"text-align: right;\">\n",
              "      <th></th>\n",
              "      <th>customer_id</th>\n",
              "      <th>membership_class_trial</th>\n",
              "      <th>result</th>\n",
              "      <th>total_spent</th>\n",
              "      <th>count_trx</th>\n",
              "      <th>avg_spent_per_trx</th>\n",
              "      <th>avg_annual_trx</th>\n",
              "    </tr>\n",
              "  </thead>\n",
              "  <tbody>\n",
              "    <tr>\n",
              "      <th>0</th>\n",
              "      <td>997579682270</td>\n",
              "      <td>Silver</td>\n",
              "      <td>Unsatisfactory</td>\n",
              "      <td>1301</td>\n",
              "      <td>28</td>\n",
              "      <td>46.46</td>\n",
              "      <td>9</td>\n",
              "    </tr>\n",
              "    <tr>\n",
              "      <th>1</th>\n",
              "      <td>997458045673</td>\n",
              "      <td>Silver</td>\n",
              "      <td>Unsatisfactory</td>\n",
              "      <td>1035</td>\n",
              "      <td>25</td>\n",
              "      <td>41.40</td>\n",
              "      <td>8</td>\n",
              "    </tr>\n",
              "    <tr>\n",
              "      <th>2</th>\n",
              "      <td>996882350315</td>\n",
              "      <td>Silver</td>\n",
              "      <td>Unsatisfactory</td>\n",
              "      <td>699</td>\n",
              "      <td>21</td>\n",
              "      <td>33.29</td>\n",
              "      <td>7</td>\n",
              "    </tr>\n",
              "    <tr>\n",
              "      <th>3</th>\n",
              "      <td>996783659998</td>\n",
              "      <td>Silver</td>\n",
              "      <td>Unsatisfactory</td>\n",
              "      <td>767</td>\n",
              "      <td>19</td>\n",
              "      <td>40.37</td>\n",
              "      <td>6</td>\n",
              "    </tr>\n",
              "    <tr>\n",
              "      <th>4</th>\n",
              "      <td>996331197257</td>\n",
              "      <td>Silver</td>\n",
              "      <td>Unsatisfactory</td>\n",
              "      <td>554</td>\n",
              "      <td>18</td>\n",
              "      <td>30.78</td>\n",
              "      <td>6</td>\n",
              "    </tr>\n",
              "  </tbody>\n",
              "</table>\n",
              "</div>\n",
              "    <div class=\"colab-df-buttons\">\n",
              "\n",
              "  <div class=\"colab-df-container\">\n",
              "    <button class=\"colab-df-convert\" onclick=\"convertToInteractive('df-0dde2997-036f-447c-9dcb-33a24f520893')\"\n",
              "            title=\"Convert this dataframe to an interactive table.\"\n",
              "            style=\"display:none;\">\n",
              "\n",
              "  <svg xmlns=\"http://www.w3.org/2000/svg\" height=\"24px\" viewBox=\"0 -960 960 960\">\n",
              "    <path d=\"M120-120v-720h720v720H120Zm60-500h600v-160H180v160Zm220 220h160v-160H400v160Zm0 220h160v-160H400v160ZM180-400h160v-160H180v160Zm440 0h160v-160H620v160ZM180-180h160v-160H180v160Zm440 0h160v-160H620v160Z\"/>\n",
              "  </svg>\n",
              "    </button>\n",
              "\n",
              "  <style>\n",
              "    .colab-df-container {\n",
              "      display:flex;\n",
              "      gap: 12px;\n",
              "    }\n",
              "\n",
              "    .colab-df-convert {\n",
              "      background-color: #E8F0FE;\n",
              "      border: none;\n",
              "      border-radius: 50%;\n",
              "      cursor: pointer;\n",
              "      display: none;\n",
              "      fill: #1967D2;\n",
              "      height: 32px;\n",
              "      padding: 0 0 0 0;\n",
              "      width: 32px;\n",
              "    }\n",
              "\n",
              "    .colab-df-convert:hover {\n",
              "      background-color: #E2EBFA;\n",
              "      box-shadow: 0px 1px 2px rgba(60, 64, 67, 0.3), 0px 1px 3px 1px rgba(60, 64, 67, 0.15);\n",
              "      fill: #174EA6;\n",
              "    }\n",
              "\n",
              "    .colab-df-buttons div {\n",
              "      margin-bottom: 4px;\n",
              "    }\n",
              "\n",
              "    [theme=dark] .colab-df-convert {\n",
              "      background-color: #3B4455;\n",
              "      fill: #D2E3FC;\n",
              "    }\n",
              "\n",
              "    [theme=dark] .colab-df-convert:hover {\n",
              "      background-color: #434B5C;\n",
              "      box-shadow: 0px 1px 3px 1px rgba(0, 0, 0, 0.15);\n",
              "      filter: drop-shadow(0px 1px 2px rgba(0, 0, 0, 0.3));\n",
              "      fill: #FFFFFF;\n",
              "    }\n",
              "  </style>\n",
              "\n",
              "    <script>\n",
              "      const buttonEl =\n",
              "        document.querySelector('#df-0dde2997-036f-447c-9dcb-33a24f520893 button.colab-df-convert');\n",
              "      buttonEl.style.display =\n",
              "        google.colab.kernel.accessAllowed ? 'block' : 'none';\n",
              "\n",
              "      async function convertToInteractive(key) {\n",
              "        const element = document.querySelector('#df-0dde2997-036f-447c-9dcb-33a24f520893');\n",
              "        const dataTable =\n",
              "          await google.colab.kernel.invokeFunction('convertToInteractive',\n",
              "                                                    [key], {});\n",
              "        if (!dataTable) return;\n",
              "\n",
              "        const docLinkHtml = 'Like what you see? Visit the ' +\n",
              "          '<a target=\"_blank\" href=https://colab.research.google.com/notebooks/data_table.ipynb>data table notebook</a>'\n",
              "          + ' to learn more about interactive tables.';\n",
              "        element.innerHTML = '';\n",
              "        dataTable['output_type'] = 'display_data';\n",
              "        await google.colab.output.renderOutput(dataTable, element);\n",
              "        const docLink = document.createElement('div');\n",
              "        docLink.innerHTML = docLinkHtml;\n",
              "        element.appendChild(docLink);\n",
              "      }\n",
              "    </script>\n",
              "  </div>\n",
              "\n",
              "\n",
              "<div id=\"df-32d9362b-e97a-4ad1-85e0-1007bce8709f\">\n",
              "  <button class=\"colab-df-quickchart\" onclick=\"quickchart('df-32d9362b-e97a-4ad1-85e0-1007bce8709f')\"\n",
              "            title=\"Suggest charts.\"\n",
              "            style=\"display:none;\">\n",
              "\n",
              "<svg xmlns=\"http://www.w3.org/2000/svg\" height=\"24px\"viewBox=\"0 0 24 24\"\n",
              "     width=\"24px\">\n",
              "    <g>\n",
              "        <path d=\"M19 3H5c-1.1 0-2 .9-2 2v14c0 1.1.9 2 2 2h14c1.1 0 2-.9 2-2V5c0-1.1-.9-2-2-2zM9 17H7v-7h2v7zm4 0h-2V7h2v10zm4 0h-2v-4h2v4z\"/>\n",
              "    </g>\n",
              "</svg>\n",
              "  </button>\n",
              "\n",
              "<style>\n",
              "  .colab-df-quickchart {\n",
              "    background-color: #E8F0FE;\n",
              "    border: none;\n",
              "    border-radius: 50%;\n",
              "    cursor: pointer;\n",
              "    display: none;\n",
              "    fill: #1967D2;\n",
              "    height: 32px;\n",
              "    padding: 0 0 0 0;\n",
              "    width: 32px;\n",
              "  }\n",
              "\n",
              "  .colab-df-quickchart:hover {\n",
              "    background-color: #E2EBFA;\n",
              "    box-shadow: 0px 1px 2px rgba(60, 64, 67, 0.3), 0px 1px 3px 1px rgba(60, 64, 67, 0.15);\n",
              "    fill: #174EA6;\n",
              "  }\n",
              "\n",
              "  [theme=dark] .colab-df-quickchart {\n",
              "    background-color: #3B4455;\n",
              "    fill: #D2E3FC;\n",
              "  }\n",
              "\n",
              "  [theme=dark] .colab-df-quickchart:hover {\n",
              "    background-color: #434B5C;\n",
              "    box-shadow: 0px 1px 3px 1px rgba(0, 0, 0, 0.15);\n",
              "    filter: drop-shadow(0px 1px 2px rgba(0, 0, 0, 0.3));\n",
              "    fill: #FFFFFF;\n",
              "  }\n",
              "</style>\n",
              "\n",
              "  <script>\n",
              "    async function quickchart(key) {\n",
              "      const charts = await google.colab.kernel.invokeFunction(\n",
              "          'suggestCharts', [key], {});\n",
              "    }\n",
              "    (() => {\n",
              "      let quickchartButtonEl =\n",
              "        document.querySelector('#df-32d9362b-e97a-4ad1-85e0-1007bce8709f button');\n",
              "      quickchartButtonEl.style.display =\n",
              "        google.colab.kernel.accessAllowed ? 'block' : 'none';\n",
              "    })();\n",
              "  </script>\n",
              "</div>\n",
              "    </div>\n",
              "  </div>\n"
            ]
          },
          "metadata": {},
          "execution_count": 4
        }
      ]
    },
    {
      "cell_type": "code",
      "source": [
        "# Customer table to create predictions on membership tiers\n",
        "file_path = '/content/drive/My Drive/Colab Notebooks/trx_cust.csv'\n",
        "df_cust = pd.read_csv(file_path)\n",
        "df_cust.head(5)"
      ],
      "metadata": {
        "colab": {
          "base_uri": "https://localhost:8080/",
          "height": 206
        },
        "id": "rhnMgGsVuGDC",
        "outputId": "f4d82c48-635b-4823-f149-fc4ce01aac93"
      },
      "execution_count": 5,
      "outputs": [
        {
          "output_type": "execute_result",
          "data": {
            "text/plain": [
              "       cust_id cust_gender  total_spent  count_trx  avg_spent_per_trx  \\\n",
              "0          NaN         NaN      1619766      17429              92.94   \n",
              "1  257991748.0           F          840         21              40.00   \n",
              "2  272805864.0           M         1678         26              64.54   \n",
              "3  452593661.0         NaN         1091         28              38.96   \n",
              "4  477858761.0           F         1980         27              73.33   \n",
              "\n",
              "   avg_annual_trx  \n",
              "0            5810  \n",
              "1               7  \n",
              "2               9  \n",
              "3               9  \n",
              "4               9  "
            ],
            "text/html": [
              "\n",
              "  <div id=\"df-bcec78e4-7c1d-4137-b969-fdec66794217\" class=\"colab-df-container\">\n",
              "    <div>\n",
              "<style scoped>\n",
              "    .dataframe tbody tr th:only-of-type {\n",
              "        vertical-align: middle;\n",
              "    }\n",
              "\n",
              "    .dataframe tbody tr th {\n",
              "        vertical-align: top;\n",
              "    }\n",
              "\n",
              "    .dataframe thead th {\n",
              "        text-align: right;\n",
              "    }\n",
              "</style>\n",
              "<table border=\"1\" class=\"dataframe\">\n",
              "  <thead>\n",
              "    <tr style=\"text-align: right;\">\n",
              "      <th></th>\n",
              "      <th>cust_id</th>\n",
              "      <th>cust_gender</th>\n",
              "      <th>total_spent</th>\n",
              "      <th>count_trx</th>\n",
              "      <th>avg_spent_per_trx</th>\n",
              "      <th>avg_annual_trx</th>\n",
              "    </tr>\n",
              "  </thead>\n",
              "  <tbody>\n",
              "    <tr>\n",
              "      <th>0</th>\n",
              "      <td>NaN</td>\n",
              "      <td>NaN</td>\n",
              "      <td>1619766</td>\n",
              "      <td>17429</td>\n",
              "      <td>92.94</td>\n",
              "      <td>5810</td>\n",
              "    </tr>\n",
              "    <tr>\n",
              "      <th>1</th>\n",
              "      <td>257991748.0</td>\n",
              "      <td>F</td>\n",
              "      <td>840</td>\n",
              "      <td>21</td>\n",
              "      <td>40.00</td>\n",
              "      <td>7</td>\n",
              "    </tr>\n",
              "    <tr>\n",
              "      <th>2</th>\n",
              "      <td>272805864.0</td>\n",
              "      <td>M</td>\n",
              "      <td>1678</td>\n",
              "      <td>26</td>\n",
              "      <td>64.54</td>\n",
              "      <td>9</td>\n",
              "    </tr>\n",
              "    <tr>\n",
              "      <th>3</th>\n",
              "      <td>452593661.0</td>\n",
              "      <td>NaN</td>\n",
              "      <td>1091</td>\n",
              "      <td>28</td>\n",
              "      <td>38.96</td>\n",
              "      <td>9</td>\n",
              "    </tr>\n",
              "    <tr>\n",
              "      <th>4</th>\n",
              "      <td>477858761.0</td>\n",
              "      <td>F</td>\n",
              "      <td>1980</td>\n",
              "      <td>27</td>\n",
              "      <td>73.33</td>\n",
              "      <td>9</td>\n",
              "    </tr>\n",
              "  </tbody>\n",
              "</table>\n",
              "</div>\n",
              "    <div class=\"colab-df-buttons\">\n",
              "\n",
              "  <div class=\"colab-df-container\">\n",
              "    <button class=\"colab-df-convert\" onclick=\"convertToInteractive('df-bcec78e4-7c1d-4137-b969-fdec66794217')\"\n",
              "            title=\"Convert this dataframe to an interactive table.\"\n",
              "            style=\"display:none;\">\n",
              "\n",
              "  <svg xmlns=\"http://www.w3.org/2000/svg\" height=\"24px\" viewBox=\"0 -960 960 960\">\n",
              "    <path d=\"M120-120v-720h720v720H120Zm60-500h600v-160H180v160Zm220 220h160v-160H400v160Zm0 220h160v-160H400v160ZM180-400h160v-160H180v160Zm440 0h160v-160H620v160ZM180-180h160v-160H180v160Zm440 0h160v-160H620v160Z\"/>\n",
              "  </svg>\n",
              "    </button>\n",
              "\n",
              "  <style>\n",
              "    .colab-df-container {\n",
              "      display:flex;\n",
              "      gap: 12px;\n",
              "    }\n",
              "\n",
              "    .colab-df-convert {\n",
              "      background-color: #E8F0FE;\n",
              "      border: none;\n",
              "      border-radius: 50%;\n",
              "      cursor: pointer;\n",
              "      display: none;\n",
              "      fill: #1967D2;\n",
              "      height: 32px;\n",
              "      padding: 0 0 0 0;\n",
              "      width: 32px;\n",
              "    }\n",
              "\n",
              "    .colab-df-convert:hover {\n",
              "      background-color: #E2EBFA;\n",
              "      box-shadow: 0px 1px 2px rgba(60, 64, 67, 0.3), 0px 1px 3px 1px rgba(60, 64, 67, 0.15);\n",
              "      fill: #174EA6;\n",
              "    }\n",
              "\n",
              "    .colab-df-buttons div {\n",
              "      margin-bottom: 4px;\n",
              "    }\n",
              "\n",
              "    [theme=dark] .colab-df-convert {\n",
              "      background-color: #3B4455;\n",
              "      fill: #D2E3FC;\n",
              "    }\n",
              "\n",
              "    [theme=dark] .colab-df-convert:hover {\n",
              "      background-color: #434B5C;\n",
              "      box-shadow: 0px 1px 3px 1px rgba(0, 0, 0, 0.15);\n",
              "      filter: drop-shadow(0px 1px 2px rgba(0, 0, 0, 0.3));\n",
              "      fill: #FFFFFF;\n",
              "    }\n",
              "  </style>\n",
              "\n",
              "    <script>\n",
              "      const buttonEl =\n",
              "        document.querySelector('#df-bcec78e4-7c1d-4137-b969-fdec66794217 button.colab-df-convert');\n",
              "      buttonEl.style.display =\n",
              "        google.colab.kernel.accessAllowed ? 'block' : 'none';\n",
              "\n",
              "      async function convertToInteractive(key) {\n",
              "        const element = document.querySelector('#df-bcec78e4-7c1d-4137-b969-fdec66794217');\n",
              "        const dataTable =\n",
              "          await google.colab.kernel.invokeFunction('convertToInteractive',\n",
              "                                                    [key], {});\n",
              "        if (!dataTable) return;\n",
              "\n",
              "        const docLinkHtml = 'Like what you see? Visit the ' +\n",
              "          '<a target=\"_blank\" href=https://colab.research.google.com/notebooks/data_table.ipynb>data table notebook</a>'\n",
              "          + ' to learn more about interactive tables.';\n",
              "        element.innerHTML = '';\n",
              "        dataTable['output_type'] = 'display_data';\n",
              "        await google.colab.output.renderOutput(dataTable, element);\n",
              "        const docLink = document.createElement('div');\n",
              "        docLink.innerHTML = docLinkHtml;\n",
              "        element.appendChild(docLink);\n",
              "      }\n",
              "    </script>\n",
              "  </div>\n",
              "\n",
              "\n",
              "<div id=\"df-22678bde-6fa2-49e1-b79f-824b8c09b4c4\">\n",
              "  <button class=\"colab-df-quickchart\" onclick=\"quickchart('df-22678bde-6fa2-49e1-b79f-824b8c09b4c4')\"\n",
              "            title=\"Suggest charts.\"\n",
              "            style=\"display:none;\">\n",
              "\n",
              "<svg xmlns=\"http://www.w3.org/2000/svg\" height=\"24px\"viewBox=\"0 0 24 24\"\n",
              "     width=\"24px\">\n",
              "    <g>\n",
              "        <path d=\"M19 3H5c-1.1 0-2 .9-2 2v14c0 1.1.9 2 2 2h14c1.1 0 2-.9 2-2V5c0-1.1-.9-2-2-2zM9 17H7v-7h2v7zm4 0h-2V7h2v10zm4 0h-2v-4h2v4z\"/>\n",
              "    </g>\n",
              "</svg>\n",
              "  </button>\n",
              "\n",
              "<style>\n",
              "  .colab-df-quickchart {\n",
              "    background-color: #E8F0FE;\n",
              "    border: none;\n",
              "    border-radius: 50%;\n",
              "    cursor: pointer;\n",
              "    display: none;\n",
              "    fill: #1967D2;\n",
              "    height: 32px;\n",
              "    padding: 0 0 0 0;\n",
              "    width: 32px;\n",
              "  }\n",
              "\n",
              "  .colab-df-quickchart:hover {\n",
              "    background-color: #E2EBFA;\n",
              "    box-shadow: 0px 1px 2px rgba(60, 64, 67, 0.3), 0px 1px 3px 1px rgba(60, 64, 67, 0.15);\n",
              "    fill: #174EA6;\n",
              "  }\n",
              "\n",
              "  [theme=dark] .colab-df-quickchart {\n",
              "    background-color: #3B4455;\n",
              "    fill: #D2E3FC;\n",
              "  }\n",
              "\n",
              "  [theme=dark] .colab-df-quickchart:hover {\n",
              "    background-color: #434B5C;\n",
              "    box-shadow: 0px 1px 3px 1px rgba(0, 0, 0, 0.15);\n",
              "    filter: drop-shadow(0px 1px 2px rgba(0, 0, 0, 0.3));\n",
              "    fill: #FFFFFF;\n",
              "  }\n",
              "</style>\n",
              "\n",
              "  <script>\n",
              "    async function quickchart(key) {\n",
              "      const charts = await google.colab.kernel.invokeFunction(\n",
              "          'suggestCharts', [key], {});\n",
              "    }\n",
              "    (() => {\n",
              "      let quickchartButtonEl =\n",
              "        document.querySelector('#df-22678bde-6fa2-49e1-b79f-824b8c09b4c4 button');\n",
              "      quickchartButtonEl.style.display =\n",
              "        google.colab.kernel.accessAllowed ? 'block' : 'none';\n",
              "    })();\n",
              "  </script>\n",
              "</div>\n",
              "    </div>\n",
              "  </div>\n"
            ]
          },
          "metadata": {},
          "execution_count": 5
        }
      ]
    },
    {
      "cell_type": "markdown",
      "source": [
        "# Data Cleaning"
      ],
      "metadata": {
        "id": "zYnEKlAPtcn6"
      }
    },
    {
      "cell_type": "code",
      "source": [
        "# Drop rows with null values from trial table\n",
        "df_trial = df_trial.dropna()"
      ],
      "metadata": {
        "id": "hj8y8GzJDFQu"
      },
      "execution_count": 6,
      "outputs": []
    },
    {
      "cell_type": "code",
      "source": [
        "# Drop rows with null customer id from customer table\n",
        "df_cust = df_cust.dropna(subset=['cust_id'])"
      ],
      "metadata": {
        "id": "HbgmQSOntcF0"
      },
      "execution_count": 7,
      "outputs": []
    },
    {
      "cell_type": "markdown",
      "source": [
        "# Data Preparation for Modeling"
      ],
      "metadata": {
        "id": "NCupIEHtauqN"
      }
    },
    {
      "cell_type": "code",
      "source": [
        "# Drop rows where result is unsatisfactory\n",
        "df_trial = df_trial[df_trial['result'] != 'Unsatisfactory']\n",
        "df_trial = df_trial.drop(columns=['result'])"
      ],
      "metadata": {
        "id": "-dnMZyDyvxXe"
      },
      "execution_count": 8,
      "outputs": []
    },
    {
      "cell_type": "code",
      "source": [
        "# Encode the target variable using Label Encoding\n",
        "label_encoder = LabelEncoder()\n",
        "custom_order = ['gold', 'silver', 'bronze']\n",
        "label_encoder.classes_ = custom_order"
      ],
      "metadata": {
        "id": "R8MYXJmA-OEh"
      },
      "execution_count": 9,
      "outputs": []
    },
    {
      "cell_type": "code",
      "source": [
        "x = df_trial[['count_trx','avg_spent_per_trx','avg_annual_trx']]\n",
        "y = label_encoder.fit_transform(df_trial['membership_class_trial'])"
      ],
      "metadata": {
        "id": "Sp8Ob7_LrZUT"
      },
      "execution_count": 10,
      "outputs": []
    },
    {
      "cell_type": "code",
      "source": [
        "# Train test split\n",
        "x_train, x_test, y_train, y_test = train_test_split(x, y, test_size=0.3, random_state=42)"
      ],
      "metadata": {
        "id": "YTzBgbObgwgL"
      },
      "execution_count": 11,
      "outputs": []
    },
    {
      "cell_type": "markdown",
      "source": [
        "# Modeling"
      ],
      "metadata": {
        "id": "9x5vfjG5sSFV"
      }
    },
    {
      "cell_type": "code",
      "source": [
        "# Logistic regression\n",
        "logreg = LogisticRegression()\n",
        "y_pred_logreg = cross_val_predict(logreg, x_train, y_train, cv=5)\n",
        "logreg_accuracy_train = accuracy_score(y_train, y_pred_logreg)\n",
        "print(\"Logistic Regression Accuracy:\", logreg_accuracy_train)\n",
        "\n",
        "# KNN\n",
        "knn = KNeighborsClassifier()\n",
        "y_pred_knn = cross_val_predict(knn, x_train, y_train, cv=5)\n",
        "knn_accuracy_train = accuracy_score(y_train, y_pred_knn)\n",
        "print(\"K-Nearest Neighbors Classifier Accuracy:\", knn_accuracy_train)\n",
        "\n",
        "# SVM\n",
        "svm = SVC()\n",
        "y_pred_svm = cross_val_predict(svm, x_train, y_train, cv=5)\n",
        "svm_accuracy_train = accuracy_score(y_train, y_pred_svm)\n",
        "print(\"SVM Classifier Accuracy:\", svm_accuracy_train)\n",
        "\n",
        "# Decision tree\n",
        "dt = DecisionTreeClassifier()\n",
        "y_pred_dt = cross_val_predict(dt, x_train, y_train, cv=5)\n",
        "dt_accuracy_train = accuracy_score(y_train, y_pred_dt)\n",
        "print(\"Decision Tree Classifier Accuracy:\", dt_accuracy_train)\n",
        "\n",
        "# Random forest\n",
        "rf = RandomForestClassifier()\n",
        "y_pred_rf = cross_val_predict(rf, x_train, y_train, cv=5)\n",
        "rf_accuracy_train = accuracy_score(y_train, y_pred_rf)\n",
        "print(\"Random Forest Classifier Accuracy:\", rf_accuracy_train)\n",
        "\n",
        "# Gaussian naive bayes\n",
        "nb = GaussianNB()\n",
        "y_pred_nb = cross_val_predict(nb, x_train, y_train, cv=5)\n",
        "nb_accuracy_train = accuracy_score(y_train, y_pred_nb)\n",
        "print(\"Gaussian Naive Bayes Classifier Accuracy:\", nb_accuracy_train)\n",
        "\n",
        "# Neural network\n",
        "nn = MLPClassifier()\n",
        "y_pred_nn = cross_val_predict(nn, x_train, y_train, cv=5)\n",
        "nn_accuracy_train = accuracy_score(y_train, y_pred_nn)\n",
        "print(\"Neural Network Classifier Accuracy:\", nn_accuracy_train)\n",
        "\n",
        "# Gradient boosting\n",
        "gb = GradientBoostingClassifier()\n",
        "y_pred_gb = cross_val_predict(gb, x_train, y_train, cv=5)\n",
        "gb_accuracy_train = accuracy_score(y_train, y_pred_gb)\n",
        "print(\"Gradient Boosting Classifier Accuracy:\", gb_accuracy_train)\n",
        "\n",
        "# Adaboost\n",
        "adaboost = AdaBoostClassifier()\n",
        "y_pred_adaboost = cross_val_predict(adaboost, x_train, y_train, cv=5)\n",
        "adaboost_accuracy_train = accuracy_score(y_train, y_pred_adaboost)\n",
        "print(\"AdaBoost Classifier Accuracy:\", adaboost_accuracy_train)\n",
        "\n",
        "# XGboost\n",
        "xgb = XGBClassifier()\n",
        "y_pred_xgb = cross_val_predict(xgb, x_train, y_train, cv=5)\n",
        "xgb_accuracy_train = accuracy_score(y_train, y_pred_xgb)\n",
        "print(\"XGBoost Classifier Accuracy:\", xgb_accuracy_train)\n",
        "\n",
        "# LightGBM\n",
        "lgbm = LGBMClassifier(verbose=-1)\n",
        "y_pred_lgbm = cross_val_predict(lgbm, x_train, y_train, cv=5)\n",
        "lgbm_accuracy_train = accuracy_score(y_train, y_pred_lgbm)\n",
        "print(\"LightGBM Classifier Accuracy:\", lgbm_accuracy_train)\n",
        "\n",
        "# Catboost\n",
        "catboost = CatBoostClassifier(verbose=False)\n",
        "y_pred_catboost = cross_val_predict(catboost, x_train, y_train, cv=5)\n",
        "catboost_accuracy_train = accuracy_score(y_train, y_pred_catboost)\n",
        "print(\"CatBoost Classifier Accuracy:\", catboost_accuracy_train)"
      ],
      "metadata": {
        "colab": {
          "base_uri": "https://localhost:8080/"
        },
        "id": "Paa-mpKqm8oP",
        "outputId": "5fdc7c47-a410-4a0d-9ac3-e743d2929afd"
      },
      "execution_count": 12,
      "outputs": [
        {
          "output_type": "stream",
          "name": "stdout",
          "text": [
            "Logistic Regression Accuracy: 0.9375\n",
            "K-Nearest Neighbors Classifier Accuracy: 1.0\n",
            "SVM Classifier Accuracy: 0.75\n",
            "Decision Tree Classifier Accuracy: 0.9375\n",
            "Random Forest Classifier Accuracy: 0.9375\n",
            "Gaussian Naive Bayes Classifier Accuracy: 1.0\n",
            "Neural Network Classifier Accuracy: 0.375\n",
            "Gradient Boosting Classifier Accuracy: 1.0\n",
            "AdaBoost Classifier Accuracy: 1.0\n",
            "XGBoost Classifier Accuracy: 0.9375\n",
            "LightGBM Classifier Accuracy: 0.3125\n",
            "CatBoost Classifier Accuracy: 0.9375\n"
          ]
        }
      ]
    },
    {
      "cell_type": "code",
      "source": [
        "# Print top 3 models with highest accuracies\n",
        "classifiers = {\n",
        "    \"Logistic Regression\": logreg_accuracy_train,\n",
        "    \"K-Nearest Neighbors\": knn_accuracy_train,\n",
        "    \"Support Vector Machine\": svm_accuracy_train,\n",
        "    \"Decision Tree\": dt_accuracy_train,\n",
        "    \"Random Forest\": rf_accuracy_train,\n",
        "    \"Gaussian Naive Bayes\": nb_accuracy_train,\n",
        "    \"Neural Network\": nn_accuracy_train,\n",
        "    \"Gradient Boosting\": gb_accuracy_train,\n",
        "    \"AdaBoost\": adaboost_accuracy_train,\n",
        "    \"XGBoost\": xgb_accuracy_train,\n",
        "    \"LightGBM\": lgbm_accuracy_train,\n",
        "    \"CatBoost\": catboost_accuracy_train\n",
        "}\n",
        "\n",
        "sorted_classifiers = sorted(classifiers.items(), key=lambda x: x[1], reverse=True)\n",
        "\n",
        "for i in range(3):\n",
        "    classifier_name, classifier_accuracy = sorted_classifiers[i]\n",
        "    print(f\"{classifier_name} Accuracy: {classifier_accuracy}\")"
      ],
      "metadata": {
        "colab": {
          "base_uri": "https://localhost:8080/"
        },
        "id": "5_v5XzS6qaUn",
        "outputId": "16e39aa2-6b5f-4981-f677-7574d397a53b"
      },
      "execution_count": 13,
      "outputs": [
        {
          "output_type": "stream",
          "name": "stdout",
          "text": [
            "K-Nearest Neighbors Accuracy: 1.0\n",
            "Gaussian Naive Bayes Accuracy: 1.0\n",
            "Gradient Boosting Accuracy: 1.0\n"
          ]
        }
      ]
    },
    {
      "cell_type": "markdown",
      "source": [
        "# Predictions"
      ],
      "metadata": {
        "id": "3Rz-ePZnsje3"
      }
    },
    {
      "cell_type": "code",
      "source": [
        "X_cust = df_cust[['count_trx','avg_spent_per_trx', 'avg_annual_trx']]"
      ],
      "metadata": {
        "id": "PrqG1hrunpx4"
      },
      "execution_count": 14,
      "outputs": []
    },
    {
      "cell_type": "code",
      "source": [
        "knn = knn.fit(x, y)\n",
        "predictions_encoded_knn = knn.predict(X_cust)\n",
        "predicted_labels_knn = label_encoder.inverse_transform(predictions_encoded_knn)\n",
        "df_cust['predictions_knn'] = predicted_labels_knn\n",
        "\n",
        "dt = dt.fit(x, y)\n",
        "predictions_encoded_dt = dt.predict(X_cust)\n",
        "predicted_labels_dt = label_encoder.inverse_transform(predictions_encoded_dt)\n",
        "df_cust['predictions_dt'] = predicted_labels_dt\n",
        "\n",
        "nb = nb.fit(x, y)\n",
        "predictions_encoded_nb = nb.predict(X_cust)\n",
        "predicted_labels_nb = label_encoder.inverse_transform(predictions_encoded_nb)\n",
        "df_cust['predictions_nb'] = predicted_labels_nb"
      ],
      "metadata": {
        "id": "MVIvZ5wWNwJ1"
      },
      "execution_count": 15,
      "outputs": []
    },
    {
      "cell_type": "code",
      "source": [
        "# View all-time transaction counts for each membership tier\n",
        "transaction_count_knn = df_cust.groupby('predictions_knn')['count_trx'].mean()\n",
        "transaction_count_dt = df_cust.groupby('predictions_dt')['count_trx'].mean()\n",
        "transaction_count_nb = df_cust.groupby('predictions_nb')['count_trx'].mean()\n",
        "\n",
        "plt.figure(figsize=(12, 6))\n",
        "\n",
        "bar_width = 0.2\n",
        "index = range(len(transaction_count_knn))\n",
        "\n",
        "plt.bar(index, transaction_count_knn, width=bar_width, label='knn')\n",
        "plt.bar([i + bar_width for i in index], transaction_count_dt, width=bar_width, label='dt')\n",
        "plt.bar([i + 2 * bar_width for i in index], transaction_count_nb, width=bar_width, label='nb')\n",
        "\n",
        "plt.xlabel('Predictions')\n",
        "plt.ylabel('All Time Transaction Count')\n",
        "plt.title('All Time Transaction Count')\n",
        "plt.xticks([i + bar_width for i in index], transaction_count_knn.index)\n",
        "plt.legend()\n",
        "\n",
        "for i, value in enumerate(transaction_count_knn):\n",
        "    plt.text(i, value, f'{int(value)}', ha='center', va='bottom', fontweight='bold')\n",
        "\n",
        "for i, value in enumerate(transaction_count_dt):\n",
        "    plt.text(i + bar_width, value, f'{int(value)}', ha='center', va='bottom', fontweight='bold')\n",
        "\n",
        "for i, value in enumerate(transaction_count_nb):\n",
        "    plt.text(i + 2 * bar_width, value, f'{int(value)}', ha='center', va='bottom', fontweight='bold')\n",
        "\n",
        "plt.tight_layout()\n",
        "plt.show()"
      ],
      "metadata": {
        "colab": {
          "base_uri": "https://localhost:8080/",
          "height": 485
        },
        "id": "uX_-M0CPpMbA",
        "outputId": "d6a2bb45-067d-4575-899c-af575eacbe6a"
      },
      "execution_count": 16,
      "outputs": [
        {
          "output_type": "display_data",
          "data": {
            "text/plain": [
              "<Figure size 1200x600 with 1 Axes>"
            ],
            "image/png": "[encoded data removed]"
          },
          "metadata": {}
        }
      ]
    },
    {
      "cell_type": "code",
      "source": [
        "# View average spent per transaction for each membership tier\n",
        "average_spent_knn = df_cust.groupby('predictions_knn')['avg_spent_per_trx'].mean()\n",
        "average_spent_dt = df_cust.groupby('predictions_dt')['avg_spent_per_trx'].mean()\n",
        "average_spent_nb = df_cust.groupby('predictions_nb')['avg_spent_per_trx'].mean()\n",
        "\n",
        "plt.figure(figsize=(12, 6))\n",
        "\n",
        "bar_width = 0.2\n",
        "index = range(len(average_spent_knn))\n",
        "\n",
        "plt.bar(index, average_spent_knn, width=bar_width, label='knn')\n",
        "plt.bar([i + bar_width for i in index], average_spent_dt, width=bar_width, label='dt')\n",
        "plt.bar([i + 2 * bar_width for i in index], average_spent_nb, width=bar_width, label='nb')\n",
        "\n",
        "plt.xlabel('Predictions')\n",
        "plt.ylabel('Average Spent per Transaction')\n",
        "plt.title('Average Spent per Transaction')\n",
        "plt.xticks([i + bar_width for i in index], average_spent_knn.index)\n",
        "plt.legend()\n",
        "\n",
        "for i, value in enumerate(average_spent_knn):\n",
        "    plt.text(i, value, f'{int(value)}', ha='center', va='bottom', fontweight='bold')\n",
        "\n",
        "for i, value in enumerate(average_spent_dt):\n",
        "    plt.text(i + bar_width, value, f'{int(value)}', ha='center', va='bottom', fontweight='bold')\n",
        "\n",
        "for i, value in enumerate(average_spent_nb):\n",
        "    plt.text(i + 2 * bar_width, value, f'{int(value)}', ha='center', va='bottom', fontweight='bold')\n",
        "\n",
        "plt.tight_layout()\n",
        "plt.show()"
      ],
      "metadata": {
        "colab": {
          "base_uri": "https://localhost:8080/",
          "height": 485
        },
        "id": "gIJATPf0S45L",
        "outputId": "0bfd7537-73c0-4716-9249-2d55d42b2df5"
      },
      "execution_count": 17,
      "outputs": [
        {
          "output_type": "display_data",
          "data": {
            "text/plain": [
              "<Figure size 1200x600 with 1 Axes>"
            ],
            "image/png": "[encoded data removed]"
          },
          "metadata": {}
        }
      ]
    },
    {
      "cell_type": "code",
      "source": [
        "# View annual average transaction counts for each membership tier\n",
        "average_transactions_knn = df_cust.groupby('predictions_knn')['avg_annual_trx'].mean()\n",
        "average_transactions_dt = df_cust.groupby('predictions_dt')['avg_annual_trx'].mean()\n",
        "average_transactions_nb = df_cust.groupby('predictions_nb')['avg_annual_trx'].mean()\n",
        "\n",
        "plt.figure(figsize=(12, 6))\n",
        "\n",
        "bar_width = 0.2\n",
        "index = range(len(average_transactions_knn))\n",
        "\n",
        "plt.bar(index, average_transactions_knn, width=bar_width, label='knn')\n",
        "plt.bar([i + bar_width for i in index], average_transactions_dt, width=bar_width, label='dt')\n",
        "plt.bar([i + 2 * bar_width for i in index], average_transactions_nb, width=bar_width, label='nb')\n",
        "\n",
        "plt.xlabel('Predictions')\n",
        "plt.ylabel('Average Transactions in a Year')\n",
        "plt.title('Average Transactions in a Year')\n",
        "plt.xticks([i + bar_width for i in index], average_transactions_knn.index)\n",
        "plt.legend()\n",
        "\n",
        "for i, value in enumerate(average_transactions_knn):\n",
        "    plt.text(i, value, f'{int(value)}', ha='center', va='bottom', fontweight='bold')\n",
        "\n",
        "for i, value in enumerate(average_transactions_dt):\n",
        "    plt.text(i + bar_width, value, f'{int(value)}', ha='center', va='bottom', fontweight='bold')\n",
        "\n",
        "for i, value in enumerate(average_transactions_nb):\n",
        "    plt.text(i + 2 * bar_width, value, f'{int(value)}', ha='center', va='bottom', fontweight='bold')\n",
        "\n",
        "plt.tight_layout()\n",
        "plt.show()"
      ],
      "metadata": {
        "colab": {
          "base_uri": "https://localhost:8080/",
          "height": 485
        },
        "id": "Bp3I_x9FTMhp",
        "outputId": "b65ca228-8d05-4e98-ad1a-b55912ae83c1"
      },
      "execution_count": 18,
      "outputs": [
        {
          "output_type": "display_data",
          "data": {
            "text/plain": [
              "<Figure size 1200x600 with 1 Axes>"
            ],
            "image/png": "[encoded data removed]"
          },
          "metadata": {}
        }
      ]
    }
  ]
}